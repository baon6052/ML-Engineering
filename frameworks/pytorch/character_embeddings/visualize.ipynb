{
 "cells": [
  {
   "cell_type": "code",
   "execution_count": 9,
   "id": "ca20024a",
   "metadata": {},
   "outputs": [],
   "source": [
    "!pip install ipywidgets > /dev/null"
   ]
  },
  {
   "cell_type": "code",
   "execution_count": 10,
   "id": "1dfee4c3-54b4-4062-8127-25f14a264dc9",
   "metadata": {},
   "outputs": [],
   "source": [
    "import ipywidgets as widgets\n",
    "import matplotlib.pyplot as plt\n",
    "import pandas as pd\n",
    "\n",
    "from IPython.display import display\n",
    "from ipywidgets import interact\n"
   ]
  },
  {
   "cell_type": "code",
   "execution_count": 11,
   "id": "67271272",
   "metadata": {},
   "outputs": [],
   "source": [
    "df = pd.read_csv(\"res.csv\")\n",
    "last_epoch = df[\"epoch\"].max()"
   ]
  },
  {
   "cell_type": "code",
   "execution_count": 12,
   "id": "30aa6d43",
   "metadata": {},
   "outputs": [
    {
     "data": {
      "application/vnd.jupyter.widget-view+json": {
       "model_id": "cf26e171554146b8960af029cb6371f3",
       "version_major": 2,
       "version_minor": 0
      },
      "text/plain": [
       "interactive(children=(IntSlider(value=0, continuous_update=False, description='epoch', max=15), Output()), _do…"
      ]
     },
     "metadata": {},
     "output_type": "display_data"
    }
   ],
   "source": [
    "@widgets.interact\n",
    "def f(epoch=widgets.IntSlider(min=0, max=last_epoch , continuous_update=False)):\n",
    "    fig, ax = plt.subplots(1, 1, figsize=(12, 8))\n",
    "    ax.set_xlim([-2, 2])\n",
    "    ax.set_ylim([-2, 2])\n",
    "    df_iter = df[df[\"epoch\"] == epoch]\n",
    "    df_iter.plot(kind='scatter', x='dim_0',y='dim_1', ax=ax, c=\"red\")\n",
    "    df_iter[['dim_0','dim_1','character']].apply(lambda row: ax.text(row[\"dim_0\"] + 0.02, row[\"dim_1\"] + 0.01, row[\"character\"], fontsize=18), axis=1)"
   ]
  }
 ],
 "metadata": {
  "kernelspec": {
   "display_name": "Python 3 (ipykernel)",
   "language": "python",
   "name": "python3"
  },
  "language_info": {
   "codemirror_mode": {
    "name": "ipython",
    "version": 3
   },
   "file_extension": ".py",
   "mimetype": "text/x-python",
   "name": "python",
   "nbconvert_exporter": "python",
   "pygments_lexer": "ipython3",
   "version": "3.9.7"
  }
 },
 "nbformat": 4,
 "nbformat_minor": 5
}
